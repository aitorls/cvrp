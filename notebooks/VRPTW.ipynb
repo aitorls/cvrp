{
 "cells": [
  {
   "cell_type": "code",
   "execution_count": 13,
   "metadata": {},
   "outputs": [],
   "source": [
    "import os\n",
    "dir_notebooks = os.getcwd()\n",
    "dir_home, _ = os.path.split(dir_notebooks)\n",
    "\n",
    "dir_data = os.path.join(dir_home, 'data')\n",
    "dir_code = os.path.join(dir_home, 'cvrp')\n",
    "\n",
    "dir_instances = os.path.join(dir_data, 'instances')\n",
    "dir_solutions = os.path.join(dir_data, 'solutions')\n",
    "dir_my_solutions = os.path.join(dir_data, 'my_solutions')\n",
    "\n",
    "import vrplib # https://github.com/leonlan/VRPLIB"
   ]
  },
  {
   "cell_type": "code",
   "execution_count": 14,
   "metadata": {},
   "outputs": [],
   "source": [
    "# Read Solomon formatted instances\n",
    "instance = vrplib.read_instance(f\"{dir_instances}/R101.txt\", instance_format=\"solomon\")\n",
    "solution = vrplib.read_solution(f\"{dir_solutions}/R101.sol\") # only 1 solution format"
   ]
  },
  {
   "cell_type": "code",
   "execution_count": 16,
   "metadata": {},
   "outputs": [],
   "source": [
    "# Import my modules\n",
    "import sys\n",
    "sys.path.append(f\"{dir_home}\") \n",
    "sys.path.append(f\"{dir_code}\")\n",
    "\n",
    "from vrptw.gurobi_vrptw import VRPTW \n",
    "from utils import save_solution\n",
    "\n",
    "prob = VRPTW(instance)\n",
    "prob.solve( timeLimit = 60*60 )\n",
    "my_solution = prob.get_solution()\n",
    "save_solution(dir_my_solutions, my_solution)"
   ]
  },
  {
   "cell_type": "code",
   "execution_count": null,
   "metadata": {},
   "outputs": [],
   "source": []
  }
 ],
 "metadata": {
  "kernelspec": {
   "display_name": "Python 3",
   "language": "python",
   "name": "python3"
  },
  "language_info": {
   "codemirror_mode": {
    "name": "ipython",
    "version": 3
   },
   "file_extension": ".py",
   "mimetype": "text/x-python",
   "name": "python",
   "nbconvert_exporter": "python",
   "pygments_lexer": "ipython3",
   "version": "3.10.12"
  }
 },
 "nbformat": 4,
 "nbformat_minor": 2
}
