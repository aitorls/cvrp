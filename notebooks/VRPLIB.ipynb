{
 "cells": [
  {
   "cell_type": "markdown",
   "metadata": {},
   "source": [
    "# VRPLIB"
   ]
  },
  {
   "cell_type": "code",
   "execution_count": 1,
   "metadata": {},
   "outputs": [],
   "source": [
    "import vrplib # https://github.com/leonlan/VRPLIB\n",
    "\n",
    "import os\n",
    "dir_notebooks = os.getcwd()\n",
    "dir_home, _ = os.path.split(dir_notebooks)\n",
    "\n",
    "dir_data = os.path.join(dir_home, 'data')\n",
    "dir_code = os.path.join(dir_home, 'cvrp')\n",
    "\n",
    "dir_instances = os.path.join(dir_data, 'instances')\n",
    "dir_solutions = os.path.join(dir_data, 'solutions')\n",
    "dir_my_solutions = os.path.join(dir_data, 'my_solutions')"
   ]
  },
  {
   "cell_type": "code",
   "execution_count": 2,
   "metadata": {},
   "outputs": [],
   "source": [
    "# Download an instance and a solution file \n",
    "vrplib.download_instance(\"A-n80-k10\", dir_instances)\n",
    "vrplib.download_solution(\"A-n80-k10\", dir_solutions)\n",
    "\n",
    "# Solomon instances is VRPTW\n",
    "vrplib.download_instance(\"R101\", dir_instances)\n",
    "vrplib.download_solution(\"R101\", dir_solutions)"
   ]
  },
  {
   "cell_type": "code",
   "execution_count": null,
   "metadata": {},
   "outputs": [],
   "source": [
    "# Read VRPLIB formatted instances\n",
    "instance = vrplib.read_instance(f\"{dir_instances}/A-n32-k5.vrp\")\n",
    "solution = vrplib.read_solution(f\"{dir_solutions}/A-n32-k5.sol\") # only 1 solution format\n",
    "\n",
    "# Read Solomon formatted instances\n",
    "instance = vrplib.read_instance(f\"{dir_instances}/R101.txt\", instance_format=\"solomon\")\n",
    "solution = vrplib.read_solution(f\"{dir_solutions}/R101.sol\") # only 1 solution format"
   ]
  },
  {
   "cell_type": "code",
   "execution_count": 4,
   "metadata": {},
   "outputs": [
    {
     "data": {
      "text/plain": [
       "dict_keys(['name', 'comment', 'type', 'dimension', 'edge_weight_type', 'capacity', 'node_coord', 'demand', 'depot', 'edge_weight'])"
      ]
     },
     "execution_count": 4,
     "metadata": {},
     "output_type": "execute_result"
    }
   ],
   "source": [
    "instance.keys()"
   ]
  },
  {
   "cell_type": "code",
   "execution_count": 5,
   "metadata": {},
   "outputs": [
    {
     "data": {
      "text/plain": [
       "dict_keys(['routes', 'cost'])"
      ]
     },
     "execution_count": 5,
     "metadata": {},
     "output_type": "execute_result"
    }
   ],
   "source": [
    "solution.keys()"
   ]
  }
 ],
 "metadata": {
  "kernelspec": {
   "display_name": "Python 3",
   "language": "python",
   "name": "python3"
  },
  "language_info": {
   "codemirror_mode": {
    "name": "ipython",
    "version": 3
   },
   "file_extension": ".py",
   "mimetype": "text/x-python",
   "name": "python",
   "nbconvert_exporter": "python",
   "pygments_lexer": "ipython3",
   "version": "3.10.12"
  }
 },
 "nbformat": 4,
 "nbformat_minor": 2
}
