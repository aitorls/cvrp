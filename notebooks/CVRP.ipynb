{
 "cells": [
  {
   "cell_type": "markdown",
   "metadata": {},
   "source": [
    "# Test"
   ]
  },
  {
   "cell_type": "code",
   "execution_count": 1,
   "metadata": {},
   "outputs": [],
   "source": [
    "import os\n",
    "dir_notebooks = os.getcwd()\n",
    "dir_home, _ = os.path.split(dir_notebooks)\n",
    "\n",
    "dir_data = os.path.join(dir_home, 'data')\n",
    "dir_code = os.path.join(dir_home, 'cvrp')\n",
    "\n",
    "dir_instances = os.path.join(dir_data, 'instances')\n",
    "dir_solutions = os.path.join(dir_data, 'solutions')\n",
    "dir_my_solutions = os.path.join(dir_data, 'my_solutions')\n",
    "\n",
    "import vrplib # https://github.com/leonlan/VRPLIB"
   ]
  },
  {
   "cell_type": "markdown",
   "metadata": {},
   "source": [
    "Read the instance"
   ]
  },
  {
   "cell_type": "code",
   "execution_count": 2,
   "metadata": {},
   "outputs": [],
   "source": [
    "# Read VRPLIB formatted instances\n",
    "instance = vrplib.read_instance(f\"{dir_instances}/A-n32-k5.vrp\")\n",
    "solution = vrplib.read_solution(f\"{dir_solutions}/A-n32-k5.sol\") # only 1 solution format"
   ]
  },
  {
   "cell_type": "code",
   "execution_count": 3,
   "metadata": {},
   "outputs": [],
   "source": [
    "import numpy as np\n",
    "instance[\"edge_weight\"] = np.array(list(map(lambda x: list(map(lambda y : int(y*10)*0.1, x)), instance[\"edge_weight\"])))"
   ]
  },
  {
   "cell_type": "markdown",
   "metadata": {},
   "source": [
    "Intento seguir la estructura de https://github.com/Kuifje02/vrpy/tree/master"
   ]
  },
  {
   "cell_type": "code",
   "execution_count": 4,
   "metadata": {},
   "outputs": [
    {
     "name": "stdout",
     "output_type": "stream",
     "text": [
      "Set parameter Username\n",
      "Academic license - for non-commercial use only - expires 2024-09-10\n"
     ]
    },
    {
     "name": "stdout",
     "output_type": "stream",
     "text": [
      "\n",
      "Interrupt request received\n"
     ]
    }
   ],
   "source": [
    "# Import my modules\n",
    "import sys\n",
    "sys.path.append(f\"{dir_home}\") \n",
    "sys.path.append(f\"{dir_code}\")\n",
    "\n",
    "from cvrp.centr_cvrp import CVRP #Implementar CVRP\n",
    "from utils.utils import save_solution\n",
    "\n",
    "prob = CVRP(instance, n_vehicles=5)\n",
    "prob.solve( timeLimit = 60*60 )\n",
    "my_solution = prob.get_solution()\n",
    "save_solution(dir_my_solutions, my_solution)"
   ]
  },
  {
   "cell_type": "code",
   "execution_count": 5,
   "metadata": {},
   "outputs": [
    {
     "data": {
      "text/plain": [
       "{'name': 'A-n32-k5',\n",
       " 'status': 'INTERRUPTED',\n",
       " 'cost': 785.3,\n",
       " 'routes': [[0, 6, 3, 2, 23, 4, 11, 28, 14, 0],\n",
       "  [0, 18, 8, 9, 22, 15, 29, 10, 25, 5, 20, 0],\n",
       "  [0, 26, 7, 13, 17, 19, 31, 21, 0],\n",
       "  [0, 27, 24, 0],\n",
       "  [0, 30, 16, 1, 12, 0]],\n",
       " 'gap': 0.33732331593021775,\n",
       " 'runtime': 1255.9720480442047}"
      ]
     },
     "execution_count": 5,
     "metadata": {},
     "output_type": "execute_result"
    }
   ],
   "source": [
    "# Check solution\n",
    "my_solution"
   ]
  },
  {
   "cell_type": "markdown",
   "metadata": {},
   "source": [
    "## Tests"
   ]
  },
  {
   "cell_type": "code",
   "execution_count": null,
   "metadata": {},
   "outputs": [
    {
     "name": "stdout",
     "output_type": "stream",
     "text": [
      "\u001b[1m============================= test session starts ==============================\u001b[0m\n",
      "platform linux -- Python 3.10.12, pytest-7.4.3, pluggy-1.3.0 -- /usr/bin/python3\n",
      "cachedir: .pytest_cache\n",
      "rootdir: /home/ubuntu/github_repos/cvrp\n",
      "collected 6 items                                                              \u001b[0m\n",
      "\n",
      "../tests/test_hello.py::HelloTestCase::test_hello \u001b[32mPASSED\u001b[0m\u001b[32m                 [ 16%]\u001b[0m\n",
      "../tests/test_persona.py::TestPersona::test_prueba \u001b[32mPASSED\u001b[0m\u001b[32m                [ 33%]\u001b[0m\n",
      "../tests/test_persona.py::TestPersona::test_constructor \u001b[32mPASSED\u001b[0m\u001b[32m           [ 50%]\u001b[0m\n",
      "../tests/test_persona.py::TestPersona::test_asingacion \u001b[32mPASSED\u001b[0m\u001b[32m            [ 66%]\u001b[0m\n",
      "../tests/test_persona.py::TestPersona::test_contiene_texto \u001b[32mPASSED\u001b[0m\u001b[32m        [ 83%]\u001b[0m\n",
      "../tests/test_persona.py::TestPersona::test_anio_nacimiento \u001b[32mPASSED\u001b[0m\u001b[32m       [100%]\u001b[0m\n",
      "\n",
      "\u001b[32m============================== \u001b[32m\u001b[1m6 passed\u001b[0m\u001b[32m in 0.02s\u001b[0m\u001b[32m ===============================\u001b[0m\n"
     ]
    }
   ],
   "source": [
    "! pytest -v \"../tests/\""
   ]
  }
 ],
 "metadata": {
  "kernelspec": {
   "display_name": "Python 3",
   "language": "python",
   "name": "python3"
  },
  "language_info": {
   "codemirror_mode": {
    "name": "ipython",
    "version": 3
   },
   "file_extension": ".py",
   "mimetype": "text/x-python",
   "name": "python",
   "nbconvert_exporter": "python",
   "pygments_lexer": "ipython3",
   "version": "3.10.12"
  }
 },
 "nbformat": 4,
 "nbformat_minor": 2
}
