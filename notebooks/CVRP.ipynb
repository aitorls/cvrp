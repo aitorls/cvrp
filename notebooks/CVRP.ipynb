{
 "cells": [
  {
   "cell_type": "markdown",
   "metadata": {},
   "source": [
    "# Test"
   ]
  },
  {
   "cell_type": "code",
   "execution_count": 19,
   "metadata": {},
   "outputs": [],
   "source": [
    "import os\n",
    "dir_notebooks = os.getcwd()\n",
    "dir_home, _ = os.path.split(dir_notebooks)\n",
    "\n",
    "dir_data = os.path.join(dir_home, 'data')\n",
    "dir_code = os.path.join(dir_home, 'cvrp')\n",
    "\n",
    "dir_instances = os.path.join(dir_data, 'instances')\n",
    "dir_solutions = os.path.join(dir_data, 'solutions')\n",
    "dir_my_solutions = os.path.join(dir_data, 'my_solutions')\n",
    "\n",
    "import vrplib # https://github.com/leonlan/VRPLIB"
   ]
  },
  {
   "cell_type": "markdown",
   "metadata": {},
   "source": [
    "Read the instance"
   ]
  },
  {
   "cell_type": "code",
   "execution_count": 20,
   "metadata": {},
   "outputs": [],
   "source": [
    "# Read VRPLIB formatted instances\n",
    "instance = vrplib.read_instance(f\"{dir_instances}/A-n32-k5.vrp\")\n",
    "solution = vrplib.read_solution(f\"{dir_solutions}/A-n32-k5.sol\") # only 1 solution format"
   ]
  },
  {
   "cell_type": "code",
   "execution_count": 21,
   "metadata": {},
   "outputs": [],
   "source": [
    "import numpy as np\n",
    "instance[\"edge_weight\"] = np.array(list(map(lambda x: list(map(lambda y : int(y*10)*0.1, x)), instance[\"edge_weight\"])))"
   ]
  },
  {
   "cell_type": "markdown",
   "metadata": {},
   "source": [
    "Intento seguir la estructura de https://github.com/Kuifje02/vrpy/tree/master"
   ]
  },
  {
   "cell_type": "code",
   "execution_count": 23,
   "metadata": {},
   "outputs": [
    {
     "name": "stdout",
     "output_type": "stream",
     "text": [
      "\n",
      "Interrupt request received\n"
     ]
    }
   ],
   "source": [
    "# Import my modules\n",
    "import sys\n",
    "sys.path.append(f\"{dir_home}\") \n",
    "sys.path.append(f\"{dir_code}\")\n",
    "\n",
    "from cvrp.centr_cvrp import CVRP #Implementar CVRP\n",
    "from utils.utils import save_solution\n",
    "\n",
    "prob = CVRP(instance, n_vehicles=5)\n",
    "prob.solve( timeLimit = 60*60 )\n",
    "my_solution = prob.get_solution()\n",
    "save_solution(dir_my_solutions, my_solution)"
   ]
  },
  {
   "cell_type": "code",
   "execution_count": 9,
   "metadata": {},
   "outputs": [
    {
     "data": {
      "text/plain": [
       "{'name': 'A-n32-k5',\n",
       " 'status': 'INTERRUPTED',\n",
       " 'cost': 797.4512901189912,\n",
       " 'routes': [[0, 3, 2, 23, 28, 4, 11, 8, 18, 14, 0],\n",
       "  [0, 12, 1, 7, 16, 30, 0],\n",
       "  [0, 26, 13, 21, 31, 19, 17, 6, 0],\n",
       "  [0, 27, 24, 0],\n",
       "  [0, 29, 22, 9, 15, 10, 25, 5, 20, 0]],\n",
       " 'gap': 0.35578367822252566,\n",
       " 'runtime': 784.5227539539337}"
      ]
     },
     "execution_count": 9,
     "metadata": {},
     "output_type": "execute_result"
    }
   ],
   "source": [
    "# Check solution\n",
    "my_solution"
   ]
  },
  {
   "cell_type": "markdown",
   "metadata": {},
   "source": [
    "## Tests"
   ]
  },
  {
   "cell_type": "code",
   "execution_count": null,
   "metadata": {},
   "outputs": [
    {
     "name": "stdout",
     "output_type": "stream",
     "text": [
      "\u001b[1m============================= test session starts ==============================\u001b[0m\n",
      "platform linux -- Python 3.10.12, pytest-7.4.3, pluggy-1.3.0 -- /usr/bin/python3\n",
      "cachedir: .pytest_cache\n",
      "rootdir: /home/ubuntu/github_repos/cvrp\n",
      "collected 6 items                                                              \u001b[0m\n",
      "\n",
      "../tests/test_hello.py::HelloTestCase::test_hello \u001b[32mPASSED\u001b[0m\u001b[32m                 [ 16%]\u001b[0m\n",
      "../tests/test_persona.py::TestPersona::test_prueba \u001b[32mPASSED\u001b[0m\u001b[32m                [ 33%]\u001b[0m\n",
      "../tests/test_persona.py::TestPersona::test_constructor \u001b[32mPASSED\u001b[0m\u001b[32m           [ 50%]\u001b[0m\n",
      "../tests/test_persona.py::TestPersona::test_asingacion \u001b[32mPASSED\u001b[0m\u001b[32m            [ 66%]\u001b[0m\n",
      "../tests/test_persona.py::TestPersona::test_contiene_texto \u001b[32mPASSED\u001b[0m\u001b[32m        [ 83%]\u001b[0m\n",
      "../tests/test_persona.py::TestPersona::test_anio_nacimiento \u001b[32mPASSED\u001b[0m\u001b[32m       [100%]\u001b[0m\n",
      "\n",
      "\u001b[32m============================== \u001b[32m\u001b[1m6 passed\u001b[0m\u001b[32m in 0.02s\u001b[0m\u001b[32m ===============================\u001b[0m\n"
     ]
    }
   ],
   "source": [
    "! pytest -v \"../tests/\""
   ]
  }
 ],
 "metadata": {
  "kernelspec": {
   "display_name": "Python 3",
   "language": "python",
   "name": "python3"
  },
  "language_info": {
   "codemirror_mode": {
    "name": "ipython",
    "version": 3
   },
   "file_extension": ".py",
   "mimetype": "text/x-python",
   "name": "python",
   "nbconvert_exporter": "python",
   "pygments_lexer": "ipython3",
   "version": "3.10.12"
  }
 },
 "nbformat": 4,
 "nbformat_minor": 2
}
