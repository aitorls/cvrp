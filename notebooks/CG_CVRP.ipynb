{
 "cells": [
  {
   "cell_type": "markdown",
   "metadata": {},
   "source": [
    "# Column generation CVRP"
   ]
  },
  {
   "cell_type": "code",
   "execution_count": 1,
   "metadata": {},
   "outputs": [],
   "source": [
    "import os\n",
    "dir_notebooks = os.getcwd()\n",
    "dir_home, _ = os.path.split(dir_notebooks)\n",
    "\n",
    "dir_data = os.path.join(dir_home, 'data')\n",
    "dir_code = os.path.join(dir_home, 'cvrp')\n",
    "\n",
    "dir_instances = os.path.join(dir_data, 'instances')\n",
    "dir_solutions = os.path.join(dir_data, 'solutions')\n",
    "dir_my_solutions = os.path.join(dir_data, 'my_solutions')\n",
    "\n",
    "import vrplib # https://github.com/leonlan/VRPLIB\n",
    "import networkx as nx  \n",
    "import numpy as np\n",
    "\n",
    "# Import my modules\n",
    "import sys\n",
    "sys.path.append(f\"{dir_home}\") \n",
    "sys.path.append(f\"{dir_code}\")\n",
    "\n",
    "from cvrp.mp_cvrp import MP_CVRP #Implementar CVRP\n",
    "from utils.utils import save_solution\n",
    "import pylgrim "
   ]
  },
  {
   "cell_type": "code",
   "execution_count": 2,
   "metadata": {},
   "outputs": [],
   "source": [
    "# Read VRPLIB formatted instances\n",
    "instance = vrplib.read_instance(f\"{dir_instances}/A-n32-k5.vrp\")\n",
    "solution = vrplib.read_solution(f\"{dir_solutions}/A-n32-k5.sol\") # only 1 solution format"
   ]
  },
  {
   "cell_type": "code",
   "execution_count": 3,
   "metadata": {},
   "outputs": [],
   "source": [
    "instance[\"node_coord\"] = instance[\"node_coord\"][:10]\n",
    "instance[\"capacity\"] = 30"
   ]
  },
  {
   "cell_type": "code",
   "execution_count": 4,
   "metadata": {},
   "outputs": [
    {
     "data": {
      "text/plain": [
       "dict_keys(['name', 'comment', 'type', 'dimension', 'edge_weight_type', 'capacity', 'node_coord', 'demand', 'depot', 'edge_weight'])"
      ]
     },
     "execution_count": 4,
     "metadata": {},
     "output_type": "execute_result"
    }
   ],
   "source": [
    "instance.keys()"
   ]
  },
  {
   "cell_type": "code",
   "execution_count": 4,
   "metadata": {},
   "outputs": [],
   "source": [
    "name = instance[\"name\"]\n",
    "n_nodes = len(instance[\"node_coord\"])\n",
    "\n",
    "nodes = list(range(n_nodes))\n",
    "customers = nodes[1:] # 0 is the depot\n",
    "depot = 0\n",
    "n_vehicles = 5 # Por la instancia\n",
    "\n",
    "arcs = [(i,j) for i in nodes for j in nodes if i!=j]"
   ]
  },
  {
   "cell_type": "code",
   "execution_count": 5,
   "metadata": {},
   "outputs": [
    {
     "name": "stdout",
     "output_type": "stream",
     "text": [
      "Set parameter Username\n",
      "Academic license - for non-commercial use only - expires 2024-09-10\n"
     ]
    }
   ],
   "source": [
    "mp_cvrp = MP_CVRP(name, customers, n_vehicles)"
   ]
  },
  {
   "cell_type": "code",
   "execution_count": 6,
   "metadata": {},
   "outputs": [],
   "source": [
    "mp_cvrp.solve(time_limit = 60*60)\n",
    "dual_customers, dual_depot = mp_cvrp.get_duals()"
   ]
  },
  {
   "cell_type": "code",
   "execution_count": 7,
   "metadata": {},
   "outputs": [],
   "source": [
    "# Process duals\n",
    "reduced_costs = {(i,j) : 0 for i,j in arcs}\n",
    "for i,j in arcs:\n",
    "    if j != depot:\n",
    "        reduced_costs[i,j] = instance[\"edge_weight\"][i,j] - dual_customers.get(j,0)\n",
    "    else:\n",
    "        reduced_costs[i,j] = instance[\"edge_weight\"][i,j] - dual_depot"
   ]
  },
  {
   "cell_type": "markdown",
   "metadata": {},
   "source": [
    "ESSPRC"
   ]
  },
  {
   "cell_type": "code",
   "execution_count": 9,
   "metadata": {},
   "outputs": [],
   "source": [
    "# Create graph\n",
    "G = nx.DiGraph(n_res=1) # Capacity\n",
    "for i,j in arcs:\n",
    "    G.add_edge(i,j, weight=reduced_costs[i,j], res_cost=np.array([instance[\"demand\"][j]]))"
   ]
  },
  {
   "cell_type": "code",
   "execution_count": 10,
   "metadata": {},
   "outputs": [
    {
     "name": "stdout",
     "output_type": "stream",
     "text": [
      "Testing with 10 nodes\n"
     ]
    }
   ],
   "source": [
    "source = 0\n",
    "print('Testing with {} nodes'.format(len(G)))"
   ]
  },
  {
   "cell_type": "code",
   "execution_count": 11,
   "metadata": {},
   "outputs": [
    {
     "data": {
      "text/plain": [
       "9"
      ]
     },
     "execution_count": 11,
     "metadata": {},
     "output_type": "execute_result"
    }
   ],
   "source": [
    "from pylgrim import tools\n",
    "source_in = 'source_in'\n",
    "tools.decouple_source(G, source, source_in=source_in)"
   ]
  },
  {
   "cell_type": "code",
   "execution_count": 12,
   "metadata": {},
   "outputs": [
    {
     "name": "stdout",
     "output_type": "stream",
     "text": [
      "shortest path found: 0 ⇨ 6 ⇨ 3 ⇨ 8 ⇨ source_in with label (-29800.25828322178, array([24.,  1.,  1.,  1.,  1.]))\n",
      "\n",
      "0 ⇨ 6 : {'weight': -9948.115512915709, 'res_cost': array([12])}\n",
      "\n",
      "6 ⇨ 3 : {'weight': -9976.230271351991, 'res_cost': array([6])}\n",
      "\n",
      "3 ⇨ 8 : {'weight': -9961.516237190212, 'res_cost': array([6])}\n",
      "\n",
      "8 ⇨ source_in : {'weight': 85.60373823613078, 'res_cost': array([0])}\n",
      "\n"
     ]
    }
   ],
   "source": [
    "from pylgrim import ESPPRC\n",
    "target = source_in\n",
    "max_res = list([instance[\"capacity\"]])\n",
    "G_pre, res_min = ESPPRC.preprocess(G, source, target, max_res, res_name='res_cost')\n",
    "shortest_path, shortest_path_label = ESPPRC.GSSA(G_pre, source, target, max_res, res_min, res_name='res_cost')\n",
    "\n",
    "\n",
    "print('shortest path found: {} with label {}'.format(shortest_path, shortest_path_label))\n",
    "print('')\n",
    "\n",
    "while True:\n",
    "    try:\n",
    "        e = shortest_path.__next__()\n",
    "        print('{} ⇨ {} : {}'.format(*e))\n",
    "        print('')\n",
    "    except StopIteration:\n",
    "        # last element reached\n",
    "        break"
   ]
  },
  {
   "cell_type": "code",
   "execution_count": null,
   "metadata": {},
   "outputs": [],
   "source": [
    "## La heuristica es muy muy lenta. Hay que pasarse a C++"
   ]
  },
  {
   "cell_type": "markdown",
   "metadata": {},
   "source": []
  }
 ],
 "metadata": {
  "kernelspec": {
   "display_name": "Python 3",
   "language": "python",
   "name": "python3"
  },
  "language_info": {
   "codemirror_mode": {
    "name": "ipython",
    "version": 3
   },
   "file_extension": ".py",
   "mimetype": "text/x-python",
   "name": "python",
   "nbconvert_exporter": "python",
   "pygments_lexer": "ipython3",
   "version": "3.10.12"
  }
 },
 "nbformat": 4,
 "nbformat_minor": 2
}
